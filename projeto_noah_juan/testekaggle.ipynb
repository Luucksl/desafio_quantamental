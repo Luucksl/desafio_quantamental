{
 "cells": [
  {
   "cell_type": "code",
   "execution_count": 2,
   "metadata": {},
   "outputs": [],
   "source": [
    "import pandas as pd\n",
    "import numpy as np\n",
    "import matplotlib.pyplot as plt\n",
    "from datetime import datetime\n",
    "from sklearn.ensemble import RandomForestClassifier\n",
    "from yellowbrick.model_selection import FeatureImportances\n",
    "from sklearn.metrics import classification_report\n",
    "from sklearn.model_selection import train_test_split\n",
    "from bcb import sgs\n"
   ]
  },
  {
   "cell_type": "code",
   "execution_count": 3,
   "metadata": {},
   "outputs": [],
   "source": [
    "df = pd.read_csv('1hour.csv')\n",
    "# Caminho para o arquivo Parquet\n",
    "# caminho_arquivo = 'BTC-BRL.parquet'\n",
    "\n",
    "# Lendo o arquivo Parquet\n",
    "# tabela = pq.read_table(caminho_arquivo)\n",
    "\n",
    "# Convertendo a tabela em um DataFrame do Pandas\n",
    "# df = tabela.to_pandas()\n",
    "dfj = pd.read_excel('juros.xlsx')\n"
   ]
  },
  {
   "cell_type": "code",
   "execution_count": 4,
   "metadata": {},
   "outputs": [
    {
     "data": {
      "text/html": [
       "<div>\n",
       "<style scoped>\n",
       "    .dataframe tbody tr th:only-of-type {\n",
       "        vertical-align: middle;\n",
       "    }\n",
       "\n",
       "    .dataframe tbody tr th {\n",
       "        vertical-align: top;\n",
       "    }\n",
       "\n",
       "    .dataframe thead th {\n",
       "        text-align: right;\n",
       "    }\n",
       "</style>\n",
       "<table border=\"1\" class=\"dataframe\">\n",
       "  <thead>\n",
       "    <tr style=\"text-align: right;\">\n",
       "      <th></th>\n",
       "      <th>Data</th>\n",
       "      <th>Abertura</th>\n",
       "      <th>Máxima</th>\n",
       "      <th>Mínima</th>\n",
       "      <th>Fechamento</th>\n",
       "    </tr>\n",
       "  </thead>\n",
       "  <tbody>\n",
       "    <tr>\n",
       "      <th>0</th>\n",
       "      <td>2023-08-29 17:00:00</td>\n",
       "      <td>12.390</td>\n",
       "      <td>12.400</td>\n",
       "      <td>12.390</td>\n",
       "      <td>12.400</td>\n",
       "    </tr>\n",
       "    <tr>\n",
       "      <th>1</th>\n",
       "      <td>2023-08-29 16:00:00</td>\n",
       "      <td>12.395</td>\n",
       "      <td>12.395</td>\n",
       "      <td>12.390</td>\n",
       "      <td>12.395</td>\n",
       "    </tr>\n",
       "    <tr>\n",
       "      <th>2</th>\n",
       "      <td>2023-08-29 15:00:00</td>\n",
       "      <td>12.395</td>\n",
       "      <td>12.400</td>\n",
       "      <td>12.390</td>\n",
       "      <td>12.395</td>\n",
       "    </tr>\n",
       "    <tr>\n",
       "      <th>3</th>\n",
       "      <td>2023-08-29 14:00:00</td>\n",
       "      <td>12.400</td>\n",
       "      <td>12.400</td>\n",
       "      <td>12.390</td>\n",
       "      <td>12.390</td>\n",
       "    </tr>\n",
       "    <tr>\n",
       "      <th>4</th>\n",
       "      <td>2023-08-29 13:00:00</td>\n",
       "      <td>12.395</td>\n",
       "      <td>12.400</td>\n",
       "      <td>12.395</td>\n",
       "      <td>12.395</td>\n",
       "    </tr>\n",
       "    <tr>\n",
       "      <th>...</th>\n",
       "      <td>...</td>\n",
       "      <td>...</td>\n",
       "      <td>...</td>\n",
       "      <td>...</td>\n",
       "      <td>...</td>\n",
       "    </tr>\n",
       "    <tr>\n",
       "      <th>9995</th>\n",
       "      <td>2018-08-10 15:00:00</td>\n",
       "      <td>11.280</td>\n",
       "      <td>11.420</td>\n",
       "      <td>11.280</td>\n",
       "      <td>11.410</td>\n",
       "    </tr>\n",
       "    <tr>\n",
       "      <th>9996</th>\n",
       "      <td>2018-08-10 14:00:00</td>\n",
       "      <td>11.280</td>\n",
       "      <td>11.280</td>\n",
       "      <td>11.260</td>\n",
       "      <td>11.270</td>\n",
       "    </tr>\n",
       "    <tr>\n",
       "      <th>9997</th>\n",
       "      <td>2018-08-10 13:00:00</td>\n",
       "      <td>11.300</td>\n",
       "      <td>11.300</td>\n",
       "      <td>11.240</td>\n",
       "      <td>11.260</td>\n",
       "    </tr>\n",
       "    <tr>\n",
       "      <th>9998</th>\n",
       "      <td>2018-08-10 12:00:00</td>\n",
       "      <td>11.280</td>\n",
       "      <td>11.310</td>\n",
       "      <td>11.270</td>\n",
       "      <td>11.300</td>\n",
       "    </tr>\n",
       "    <tr>\n",
       "      <th>9999</th>\n",
       "      <td>2018-08-10 11:00:00</td>\n",
       "      <td>11.380</td>\n",
       "      <td>11.390</td>\n",
       "      <td>11.240</td>\n",
       "      <td>11.250</td>\n",
       "    </tr>\n",
       "  </tbody>\n",
       "</table>\n",
       "<p>10000 rows × 5 columns</p>\n",
       "</div>"
      ],
      "text/plain": [
       "                    Data  Abertura  Máxima  Mínima  Fechamento\n",
       "0    2023-08-29 17:00:00    12.390  12.400  12.390      12.400\n",
       "1    2023-08-29 16:00:00    12.395  12.395  12.390      12.395\n",
       "2    2023-08-29 15:00:00    12.395  12.400  12.390      12.395\n",
       "3    2023-08-29 14:00:00    12.400  12.400  12.390      12.390\n",
       "4    2023-08-29 13:00:00    12.395  12.400  12.395      12.395\n",
       "...                  ...       ...     ...     ...         ...\n",
       "9995 2018-08-10 15:00:00    11.280  11.420  11.280      11.410\n",
       "9996 2018-08-10 14:00:00    11.280  11.280  11.260      11.270\n",
       "9997 2018-08-10 13:00:00    11.300  11.300  11.240      11.260\n",
       "9998 2018-08-10 12:00:00    11.280  11.310  11.270      11.300\n",
       "9999 2018-08-10 11:00:00    11.380  11.390  11.240      11.250\n",
       "\n",
       "[10000 rows x 5 columns]"
      ]
     },
     "execution_count": 4,
     "metadata": {},
     "output_type": "execute_result"
    }
   ],
   "source": [
    "dfj"
   ]
  },
  {
   "cell_type": "code",
   "execution_count": 161,
   "metadata": {},
   "outputs": [
    {
     "name": "stdout",
     "output_type": "stream",
     "text": [
      "<class 'pandas.core.frame.DataFrame'>\n",
      "RangeIndex: 51245 entries, 0 to 51244\n",
      "Data columns (total 7 columns):\n",
      " #   Column         Non-Null Count  Dtype  \n",
      "---  ------         --------------  -----  \n",
      " 0   1502942400.0   51245 non-null  float64\n",
      " 1   4261.48000000  51245 non-null  float64\n",
      " 2   4313.62000000  51245 non-null  float64\n",
      " 3   4261.32000000  51245 non-null  float64\n",
      " 4   4308.83000000  51245 non-null  float64\n",
      " 5   47.18100900    51245 non-null  float64\n",
      " 6   1502945999999  51245 non-null  int64  \n",
      "dtypes: float64(6), int64(1)\n",
      "memory usage: 2.7 MB\n"
     ]
    }
   ],
   "source": [
    "df.info()"
   ]
  },
  {
   "cell_type": "code",
   "execution_count": 162,
   "metadata": {},
   "outputs": [],
   "source": [
    "df.columns = [\"open time\",\"open\",\"high\",\"low\",\"close\",\"volume\",\"close time\"]"
   ]
  },
  {
   "cell_type": "code",
   "execution_count": 163,
   "metadata": {},
   "outputs": [
    {
     "name": "stdout",
     "output_type": "stream",
     "text": [
      "<class 'pandas.core.frame.DataFrame'>\n",
      "RangeIndex: 51245 entries, 0 to 51244\n",
      "Data columns (total 7 columns):\n",
      " #   Column      Non-Null Count  Dtype  \n",
      "---  ------      --------------  -----  \n",
      " 0   open time   51245 non-null  float64\n",
      " 1   open        51245 non-null  float64\n",
      " 2   high        51245 non-null  float64\n",
      " 3   low         51245 non-null  float64\n",
      " 4   close       51245 non-null  float64\n",
      " 5   volume      51245 non-null  float64\n",
      " 6   close time  51245 non-null  int64  \n",
      "dtypes: float64(6), int64(1)\n",
      "memory usage: 2.7 MB\n"
     ]
    }
   ],
   "source": [
    "df.info()"
   ]
  },
  {
   "cell_type": "code",
   "execution_count": 164,
   "metadata": {},
   "outputs": [],
   "source": [
    "vet = list([])\n",
    "for i in range(len(df)):\n",
    "     x = df[\"open time\"].iloc[i]\n",
    "     dt_object = datetime.utcfromtimestamp(x)\n",
    "     formatted_date = dt_object.strftime('%Y-%m-%d %H:%M:%S')\n",
    "     vet.append(formatted_date)\n"
   ]
  },
  {
   "cell_type": "code",
   "execution_count": 165,
   "metadata": {},
   "outputs": [],
   "source": [
    "df[\"data\"]  =  vet\n",
    "df[\"data\"] = pd.to_datetime(df['data'])"
   ]
  },
  {
   "cell_type": "code",
   "execution_count": 166,
   "metadata": {},
   "outputs": [],
   "source": [
    "df['data simp'] = df['data'].dt.strftime('%Y-%m-%d')\n",
    "df = df.set_index('data simp', inplace=False)\n"
   ]
  },
  {
   "cell_type": "code",
   "execution_count": 167,
   "metadata": {},
   "outputs": [],
   "source": [
    "# cdi = sgs.get({'CDI':12}, start='1970-01-01')\n",
    "# ipca = sgs.get({'IPCA':433}, start='2005-01-01')"
   ]
  },
  {
   "cell_type": "code",
   "execution_count": 168,
   "metadata": {},
   "outputs": [],
   "source": [
    "# ipca.info()"
   ]
  },
  {
   "cell_type": "code",
   "execution_count": 169,
   "metadata": {},
   "outputs": [],
   "source": [
    "\n",
    "# ipca[\"data\"] = ipca.index\n",
    "# ipca[\"data\"] = pd.to_datetime(ipca['data'])\n",
    "# ipca[\"data\"] =ipca[\"data\"].dt.strftime('%Y-%m-%d')\n",
    "# ipca = ipca.set_index(\"data\")"
   ]
  },
  {
   "cell_type": "code",
   "execution_count": 170,
   "metadata": {},
   "outputs": [],
   "source": [
    "# df[\"ipca\"] = ipca[\"IPCA\"]\n",
    "# # df = df.dropna()\n",
    "# df[\"ipca\"] = df[\"ipca\"].fillna(0)\n",
    "# valor = None\n",
    "# for i in range(len(df)):\n",
    "#     if(df[\"ipca\"].iloc[i] != 0):\n",
    "#         valor = df[\"ipca\"].iloc[i]\n",
    "#     elif(df[\"ipca\"].iloc[i] == 0):\n",
    "#         df[\"ipca\"].iloc[i] = valor "
   ]
  },
  {
   "cell_type": "code",
   "execution_count": 171,
   "metadata": {},
   "outputs": [],
   "source": [
    "\n",
    "# cdi[\"data\"] = cdi.index\n",
    "# cdi[\"data\"] = pd.to_datetime(cdi['data'])\n",
    "# cdi[\"data\"] =cdi[\"data\"].dt.strftime('%Y-%m-%d')\n",
    "# cdi = cdi.set_index(\"data\")\n"
   ]
  },
  {
   "cell_type": "code",
   "execution_count": 172,
   "metadata": {},
   "outputs": [],
   "source": [
    "# df[\"cdi\"] = cdi[\"CDI\"]\n",
    "# # df = df.dropna()\n",
    "# df[\"cdi\"] = df[\"cdi\"].fillna(0)\n",
    "# valor = None\n",
    "# for i in range(len(df)):\n",
    "#     if(df[\"cdi\"].iloc[i] != 0):\n",
    "#         valor = df[\"cdi\"].iloc[i]\n",
    "#     elif(df[\"cdi\"].iloc[i] == 0):\n",
    "#         df[\"cdi\"].iloc[i] = valor "
   ]
  },
  {
   "cell_type": "code",
   "execution_count": 173,
   "metadata": {},
   "outputs": [],
   "source": [
    "df['VWAP'] = (df['close'] * df['volume']).cumsum() / df['volume'].cumsum()\n",
    "df['Upper_Shadow'] = df['high'] - np.maximum(df['close'], df['open'])\n",
    "df['Lower_Shadow'] = np.minimum(df['close'], df['open']) - df['low']\n",
    "df['high2low'] = (df['high'] / df['low']).replace([np.inf, -np.inf, np.nan], 0.)\n",
    "df[\"hlco ratio\"] = ((df['high'] - df['low'])/(df['close']-df['open'])).replace([np.inf, -np.inf, np.nan], 0.)"
   ]
  },
  {
   "cell_type": "code",
   "execution_count": 174,
   "metadata": {},
   "outputs": [],
   "source": [
    "df = df.dropna()"
   ]
  },
  {
   "cell_type": "code",
   "execution_count": 175,
   "metadata": {},
   "outputs": [],
   "source": [
    "df = df.drop(columns=[df.columns[6],df.columns[0]])"
   ]
  },
  {
   "cell_type": "code",
   "execution_count": 176,
   "metadata": {},
   "outputs": [],
   "source": [
    "vetor = list([])\n",
    "for i in range(len(df)-1):\n",
    "    if (i == len(df)):\n",
    "        vetor.append(0)\n",
    "    elif (df[\"close\"].iloc[i+1]  <  df[\"close\"].iloc[i]):\n",
    "        vetor.append(0)\n",
    "    elif (df[\"close\"].iloc[i+1]  >  df[\"close\"].iloc[i]): \n",
    "        vetor.append(1)\n",
    "    else:\n",
    "        vetor.append(0)\n",
    "\n",
    "vetor.append(0)\n"
   ]
  },
  {
   "cell_type": "code",
   "execution_count": 177,
   "metadata": {},
   "outputs": [],
   "source": [
    "df[\"signal\"] = vetor\n",
    "# df[\"signal\"] = df[\"signal\"].shift(1)\n",
    "# df = df.dropna()"
   ]
  },
  {
   "cell_type": "code",
   "execution_count": null,
   "metadata": {},
   "outputs": [],
   "source": []
  },
  {
   "cell_type": "code",
   "execution_count": 178,
   "metadata": {},
   "outputs": [],
   "source": [
    "Y = df[df.index < \"2022-01-01\"][\"signal\"]\n",
    "X = df[df.index < \"2022-01-01\"].loc[:, (df.columns != \"signal\")&(df.columns != \"data\")]#&(df.columns != \"close time\")&(df.columns != \"mes ano\")&(df.columns != \"open time\")]\n",
    "\n",
    "X = pd.DataFrame(X)\n",
    "x_train, x_test, y_train, y_test = train_test_split(X, Y, test_size=0.3)"
   ]
  },
  {
   "cell_type": "code",
   "execution_count": 179,
   "metadata": {},
   "outputs": [
    {
     "name": "stdout",
     "output_type": "stream",
     "text": [
      "              precision    recall  f1-score   support\n",
      "\n",
      "           0       0.51      0.51      0.51      5625\n",
      "           1       0.53      0.53      0.53      5841\n",
      "\n",
      "    accuracy                           0.52     11466\n",
      "   macro avg       0.52      0.52      0.52     11466\n",
      "weighted avg       0.52      0.52      0.52     11466\n",
      "\n"
     ]
    }
   ],
   "source": [
    "rf = RandomForestClassifier()\n",
    "# rf = joblib.load('random_forest_model.joblib_1hour')\n",
    "rf.fit(x_train,y_train)\n",
    "predictrftest = rf.predict(x_test)\n",
    "print(classification_report(y_test, predictrftest))\n",
    "\n"
   ]
  },
  {
   "cell_type": "code",
   "execution_count": 180,
   "metadata": {},
   "outputs": [
    {
     "name": "stderr",
     "output_type": "stream",
     "text": [
      "c:\\Python37\\lib\\site-packages\\sklearn\\base.py:451: UserWarning: X does not have valid feature names, but RandomForestClassifier was fitted with feature names\n",
      "  \"X does not have valid feature names, but\"\n"
     ]
    },
    {
     "data": {
      "image/png": "[encoded data removed]",
      "text/plain": [
       "<Figure size 800x550 with 1 Axes>"
      ]
     },
     "metadata": {},
     "output_type": "display_data"
    },
    {
     "data": {
      "text/plain": [
       "<AxesSubplot:title={'center':'Feature Importances of 10 Features using RandomForestClassifier'}, xlabel='relative importance'>"
      ]
     },
     "execution_count": 180,
     "metadata": {},
     "output_type": "execute_result"
    }
   ],
   "source": [
    "viz = FeatureImportances(rf)\n",
    "fig, ax = plt.subplots()\n",
    "viz = FeatureImportances(rf, relative=True) \n",
    "viz.fit(x_train, y_train)\n",
    "viz.poof()"
   ]
  },
  {
   "cell_type": "code",
   "execution_count": 181,
   "metadata": {},
   "outputs": [],
   "source": [
    "df_aux = df[df.index >= \"2022-01-01\"]"
   ]
  },
  {
   "cell_type": "code",
   "execution_count": 182,
   "metadata": {},
   "outputs": [],
   "source": [
    "K = df_aux[\"signal\"]\n",
    "Z = df_aux.loc[:, (df.columns != \"signal\")&(df.columns != \"data\")&(df.columns != \"open_time\")&(df.columns != \"mes ano\")]"
   ]
  },
  {
   "cell_type": "code",
   "execution_count": 183,
   "metadata": {},
   "outputs": [
    {
     "name": "stderr",
     "output_type": "stream",
     "text": [
      "C:\\Users\\User\\AppData\\Roaming\\Python\\Python37\\site-packages\\ipykernel_launcher.py:1: SettingWithCopyWarning: \n",
      "A value is trying to be set on a copy of a slice from a DataFrame.\n",
      "Try using .loc[row_indexer,col_indexer] = value instead\n",
      "\n",
      "See the caveats in the documentation: https://pandas.pydata.org/pandas-docs/stable/user_guide/indexing.html#returning-a-view-versus-a-copy\n",
      "  \"\"\"Entry point for launching an IPython kernel.\n"
     ]
    }
   ],
   "source": [
    "df_aux[\"sinal modelo\"] = rf.predict(Z)"
   ]
  },
  {
   "cell_type": "code",
   "execution_count": 184,
   "metadata": {},
   "outputs": [
    {
     "data": {
      "text/plain": [
       "1    7998\n",
       "0    5027\n",
       "Name: sinal modelo, dtype: int64"
      ]
     },
     "execution_count": 184,
     "metadata": {},
     "output_type": "execute_result"
    }
   ],
   "source": [
    "df_aux[\"sinal modelo\"].value_counts()"
   ]
  },
  {
   "cell_type": "code",
   "execution_count": 185,
   "metadata": {},
   "outputs": [
    {
     "name": "stderr",
     "output_type": "stream",
     "text": [
      "C:\\Users\\User\\AppData\\Roaming\\Python\\Python37\\site-packages\\ipykernel_launcher.py:1: SettingWithCopyWarning: \n",
      "A value is trying to be set on a copy of a slice from a DataFrame.\n",
      "Try using .loc[row_indexer,col_indexer] = value instead\n",
      "\n",
      "See the caveats in the documentation: https://pandas.pydata.org/pandas-docs/stable/user_guide/indexing.html#returning-a-view-versus-a-copy\n",
      "  \"\"\"Entry point for launching an IPython kernel.\n"
     ]
    }
   ],
   "source": [
    "df_aux[\"retorno\"] = df_aux[\"close\"].pct_change()\n",
    "df_aux = df_aux.dropna()"
   ]
  },
  {
   "cell_type": "code",
   "execution_count": 186,
   "metadata": {},
   "outputs": [],
   "source": [
    "rent = list([])\n",
    "ultimo_valor=1\n",
    "for i in range(len(df_aux)):\n",
    "    if (df_aux[\"sinal modelo\"].iloc[i] == 1):#&(df_aux[\"volume\"].iloc[i] != 0)&(ultimo_valor == df_aux[\"sinal modelo\"].iloc[i]):\n",
    "        rent.append(df_aux[\"retorno\"].iloc[i]-0.00009)\n",
    "    elif (df_aux[\"sinal modelo\"].iloc[i] == 0):#&(df_aux[\"volume\"].iloc[i] != 0)&(ultimo_valor != df_aux[\"sinal modelo\"].iloc[i]):\n",
    "        rent.append(-df_aux[\"retorno\"].iloc[i] -0.00018  )\n",
    "    # elif (df_aux[\"sinal modelo\"].iloc[i] == 1)&(df_aux[\"volume\"].iloc[i] == 0):\n",
    "    #     rent.append(0)\n",
    "    # elif (df_aux[\"sinal modelo\"].iloc[i] == 0):\n",
    "    #     rent.append(df_aux[\"retorno\"].iloc[i])"
   ]
  },
  {
   "cell_type": "code",
   "execution_count": 187,
   "metadata": {},
   "outputs": [],
   "source": [
    "df_aux[\"retorno estrategia\"] = rent"
   ]
  },
  {
   "cell_type": "code",
   "execution_count": 188,
   "metadata": {},
   "outputs": [
    {
     "data": {
      "text/plain": [
       "<matplotlib.legend.Legend at 0x1a496ae4b88>"
      ]
     },
     "execution_count": 188,
     "metadata": {},
     "output_type": "execute_result"
    },
    {
     "data": {
      "image/png": "[encoded data removed]",
      "text/plain": [
       "<Figure size 800x550 with 1 Axes>"
      ]
     },
     "metadata": {},
     "output_type": "display_data"
    }
   ],
   "source": [
    "plt.plot(df_aux[\"data\"], (df_aux[\"retorno\"]+1).cumprod(), label=\"hold btc\")\n",
    "plt.plot(df_aux[\"data\"], (df_aux[\"retorno estrategia\"]+1).cumprod(), label=\"estrategia\")\n",
    "plt.legend()"
   ]
  },
  {
   "cell_type": "code",
   "execution_count": 189,
   "metadata": {},
   "outputs": [],
   "source": [
    "# import joblib\n",
    "\n",
    "# model_filename = 'random_forest_model_1hour.joblib'\n",
    "# joblib.dump(rf, model_filename)"
   ]
  }
 ],
 "metadata": {
  "kernelspec": {
   "display_name": "Python 3",
   "language": "python",
   "name": "python3"
  },
  "language_info": {
   "codemirror_mode": {
    "name": "ipython",
    "version": 3
   },
   "file_extension": ".py",
   "mimetype": "text/x-python",
   "name": "python",
   "nbconvert_exporter": "python",
   "pygments_lexer": "ipython3",
   "version": "3.7.9"
  },
  "orig_nbformat": 4
 },
 "nbformat": 4,
 "nbformat_minor": 2
}
