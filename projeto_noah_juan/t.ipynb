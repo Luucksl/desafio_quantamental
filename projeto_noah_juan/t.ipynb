{
 "cells": [
  {
   "cell_type": "code",
   "execution_count": null,
   "metadata": {},
   "outputs": [],
   "source": [
    "//*[@id=\"js-site-main\"]/div[2]/div[1]/nav/div/div/form/div[1]/a\n",
    "class=\"property-card__content\""
   ]
  }
 ],
 "metadata": {
  "language_info": {
   "name": "python"
  },
  "orig_nbformat": 4
 },
 "nbformat": 4,
 "nbformat_minor": 2
}
