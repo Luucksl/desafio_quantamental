{
 "cells": [
  {
   "cell_type": "code",
   "execution_count": 1,
   "metadata": {},
   "outputs": [],
   "source": [
    "import yfinance as yf\n",
    "import pandas as pd\n",
    "import numpy as np\n",
    "import matplotlib.pyplot as plt\n",
    "import seaborn as sns\n",
    "import talib as tb\n"
   ]
  },
  {
   "cell_type": "code",
   "execution_count": 23,
   "metadata": {},
   "outputs": [
    {
     "name": "stdout",
     "output_type": "stream",
     "text": [
      "            Value\n",
      "Date             \n",
      "1986-06-30   1.27\n",
      "1986-07-31   1.95\n",
      "1986-08-31   2.57\n",
      "1986-09-30   2.94\n",
      "1986-10-31   1.96\n",
      "...           ...\n",
      "2023-04-30   0.92\n",
      "2023-05-31   1.12\n",
      "2023-06-30   1.07\n",
      "2023-07-31   1.07\n",
      "2023-08-31   0.20\n",
      "\n",
      "[447 rows x 1 columns]\n"
     ]
    }
   ],
   "source": [
    "# import quandl\n",
    "\n",
    "# # Defina sua chave de API do Quandl\n",
    "# quandl.ApiConfig.api_key = 'tY-sLkRbjTXxRk8b7Qcx'\n",
    "\n",
    "# # Código do CDI no Quandl\n",
    "# cdi_code = 'BCB/4390'  # Este é o código para os dados do CDI no Quandl\n",
    "\n",
    "# # Baixe os dados do CDI\n",
    "# cdi_data = quandl.get(cdi_code)\n",
    "\n",
    "# # Exiba os primeiros registros\n",
    "# print(cdi_data)"
   ]
  },
  {
   "cell_type": "code",
   "execution_count": null,
   "metadata": {},
   "outputs": [],
   "source": []
  },
  {
   "cell_type": "code",
   "execution_count": 2,
   "metadata": {},
   "outputs": [
    {
     "name": "stdout",
     "output_type": "stream",
     "text": [
      "[*********************100%***********************]  1 of 1 completed\n"
     ]
    }
   ],
   "source": [
    "df_wege = yf.download(\"WEGE3.SA\", period=\"18y\")\n"
   ]
  },
  {
   "cell_type": "code",
   "execution_count": null,
   "metadata": {},
   "outputs": [],
   "source": []
  },
  {
   "cell_type": "code",
   "execution_count": 3,
   "metadata": {},
   "outputs": [],
   "source": [
    "vetor = list([])\n",
    "for i in range(len(df_wege)-1):\n",
    "    if (i == len(df_wege))       :\n",
    "        vetor.append(0)\n",
    "    elif (df_wege[\"Adj Close\"].iloc[i+1]  <  df_wege[\"Adj Close\"].iloc[i]):\n",
    "        vetor.append(0)\n",
    "    elif (df_wege[\"Adj Close\"].iloc[i+1]  >  df_wege[\"Adj Close\"].iloc[i]): \n",
    "        vetor.append(1)\n",
    "    else:\n",
    "        vetor.append(0) "
   ]
  },
  {
   "cell_type": "code",
   "execution_count": 6,
   "metadata": {},
   "outputs": [],
   "source": [
    "df_wege = df_wege.drop(df_wege.index[-1])"
   ]
  },
  {
   "cell_type": "code",
   "execution_count": 7,
   "metadata": {},
   "outputs": [],
   "source": [
    "df_wege[\"sinal\"] = vetor"
   ]
  },
  {
   "cell_type": "code",
   "execution_count": 9,
   "metadata": {},
   "outputs": [],
   "source": [
    "from sklearn.model_selection import train_test_split\n",
    "\n",
    "Y = df_wege[\"sinal\"]\n",
    "X = df_wege.loc[:, (df_wege.columns != \"sinal\")]\n",
    "\n",
    "x_train, x_test, y_train, y_test = train_test_split(X, Y, test_size=0.3)"
   ]
  },
  {
   "cell_type": "code",
   "execution_count": 14,
   "metadata": {},
   "outputs": [
    {
     "data": {
      "text/plain": [
       "LogisticRegression(max_iter=100000)"
      ]
     },
     "execution_count": 14,
     "metadata": {},
     "output_type": "execute_result"
    }
   ],
   "source": [
    "from sklearn.linear_model import LogisticRegression\n",
    "\n",
    "logmodel = LogisticRegression(max_iter=100000)\n",
    "logmodel.fit(x_train,y_train)"
   ]
  },
  {
   "cell_type": "code",
   "execution_count": 15,
   "metadata": {},
   "outputs": [],
   "source": [
    "predictions = logmodel.predict(x_train)\n"
   ]
  },
  {
   "cell_type": "code",
   "execution_count": 16,
   "metadata": {},
   "outputs": [],
   "source": [
    "from sklearn.metrics import classification_report\n"
   ]
  },
  {
   "cell_type": "code",
   "execution_count": 17,
   "metadata": {},
   "outputs": [
    {
     "name": "stdout",
     "output_type": "stream",
     "text": [
      "              precision    recall  f1-score   support\n",
      "\n",
      "           0       0.94      0.16      0.28      1710\n",
      "           1       0.50      0.99      0.66      1421\n",
      "\n",
      "    accuracy                           0.54      3131\n",
      "   macro avg       0.72      0.58      0.47      3131\n",
      "weighted avg       0.74      0.54      0.45      3131\n",
      "\n"
     ]
    }
   ],
   "source": [
    "print(classification_report(y_train,predictions))"
   ]
  },
  {
   "cell_type": "code",
   "execution_count": 20,
   "metadata": {},
   "outputs": [],
   "source": [
    "pred = logmodel.predict(x_test)"
   ]
  },
  {
   "cell_type": "code",
   "execution_count": 21,
   "metadata": {},
   "outputs": [
    {
     "name": "stdout",
     "output_type": "stream",
     "text": [
      "              precision    recall  f1-score   support\n",
      "\n",
      "           0       0.94      0.17      0.29       727\n",
      "           1       0.50      0.99      0.67       616\n",
      "\n",
      "    accuracy                           0.55      1343\n",
      "   macro avg       0.72      0.58      0.48      1343\n",
      "weighted avg       0.74      0.55      0.47      1343\n",
      "\n"
     ]
    }
   ],
   "source": [
    "print(classification_report(y_test,pred))"
   ]
  }
 ],
 "metadata": {
  "kernelspec": {
   "display_name": "Python 3",
   "language": "python",
   "name": "python3"
  },
  "language_info": {
   "codemirror_mode": {
    "name": "ipython",
    "version": 3
   },
   "file_extension": ".py",
   "mimetype": "text/x-python",
   "name": "python",
   "nbconvert_exporter": "python",
   "pygments_lexer": "ipython3",
   "version": "3.7.9"
  },
  "orig_nbformat": 4
 },
 "nbformat": 4,
 "nbformat_minor": 2
}
